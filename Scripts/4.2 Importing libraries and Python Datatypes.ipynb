{
 "cells": [
  {
   "cell_type": "markdown",
   "id": "7fc62863",
   "metadata": {},
   "source": [
    "#01.Importing libraries\n",
    "\n",
    "\n",
    "#import libraries\n",
    "import pandas as pd\n",
    "import numpy as np\n",
    "import os\n",
    "\n",
    "#02.Data types\n"
   ]
  },
  {
   "cell_type": "code",
   "execution_count": null,
   "id": "74d68c28",
   "metadata": {},
   "outputs": [],
   "source": []
  }
 ],
 "metadata": {
  "kernelspec": {
   "display_name": "Python 3 (ipykernel)",
   "language": "python",
   "name": "python3"
  },
  "language_info": {
   "codemirror_mode": {
    "name": "ipython",
    "version": 3
   },
   "file_extension": ".py",
   "mimetype": "text/x-python",
   "name": "python",
   "nbconvert_exporter": "python",
   "pygments_lexer": "ipython3",
   "version": "3.10.9"
  }
 },
 "nbformat": 4,
 "nbformat_minor": 5
}
